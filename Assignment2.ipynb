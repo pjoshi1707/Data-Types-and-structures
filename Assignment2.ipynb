{
  "nbformat": 4,
  "nbformat_minor": 0,
  "metadata": {
    "colab": {
      "provenance": []
    },
    "kernelspec": {
      "name": "python3",
      "display_name": "Python 3"
    },
    "language_info": {
      "name": "python"
    }
  },
  "cells": [
    {
      "cell_type": "markdown",
      "source": [
        "#Data Types and structures assignment questions"
      ],
      "metadata": {
        "id": "owykcTbqv_uK"
      }
    },
    {
      "cell_type": "markdown",
      "source": [
        "##1. What are data structures, and why are they important?\n",
        "Ans- Data structures a way of organizing, storing, and managing of data so that they can be use efficiently, data structures work as containers that hold your data and determine how you can interact with it. Different containers are better suited for different types of items.\n",
        "\n",
        "they are important because:-\n",
        "\n",
        "* Choosing the right data structure significantly impacts the efficiency and performance of your program.\n",
        "\n",
        "* Well-chosen data structures can:\n",
        "\n",
        "* Simplify data manipulation (adding, removing, modifying elements)\n",
        "\n",
        "* Optimize searching and sorting operations\n",
        "\n",
        "* Conserve memory usage"
      ],
      "metadata": {
        "id": "jEOUDMMewH_R"
      }
    },
    {
      "cell_type": "markdown",
      "source": [
        "##2. Explain the difference between mutable and immutable data types with examples.\n",
        "Ans- 1. Mutable data types Definition: Mutable data types are those whose values can be changed or modified after their creation. This means you can update the content of a mutable object without creating a new object in memory.\n",
        "\n",
        "Examples: Common mutable data types in Python include:\n",
        "* Lists: Ordered collections that allow elements to be added, removed, or changed.\n",
        "* Dictionaries: Unordered collections of key-value pairs, where both keys and values can be modified.\n",
        "* Sets: Unordered collections of unique elements that allow adding or removing items.\n",
        "* User-Defined Classes: Depending on how they are defined, instances of user-defined classes can be mutable\n",
        "\n",
        "2. Immutable data types\n",
        "Definition: Immutable data types are those whose values cannot be changed after they are created. Any operation that appears to modify an immutable object actually creates a new object with the updated value, leaving the original object untouched.\n",
        "\n",
        "Examples: Common immutable data types in Python include:\n",
        "* Numbers: Integers, floats, and complex numbers.\n",
        "* Strings: Sequences of characters.\n",
        "* Tuples: Ordered collections of elements (similar to lists but immutable).\n",
        "* Booleans: True/False values.\n",
        "* Frozensets: Immutable versions of sets."
      ],
      "metadata": {
        "id": "NUU_nbnQySgY"
      }
    },
    {
      "cell_type": "markdown",
      "source": [
        "##3. What are the main differences between lists and tuples in Python?\n",
        "ANs- List:-\n",
        "* list are mutable in nature\n",
        "* list define using square braket \"[ ]\"\n",
        "* Cannot be used as dictionary keys because they are mutable\n",
        "* consume more memory and generally slower than tuples\n",
        "\n",
        "tuples:-\n",
        "* tuples are immutable in nature\n",
        "* tuples define using parentheses \"()\"\n",
        "* Can be used as dictionary keys because they are immutable\n",
        "* consume less memory and generally faster than list.\n"
      ],
      "metadata": {
        "id": "B3M9ETZnzTSA"
      }
    },
    {
      "cell_type": "markdown",
      "source": [
        "##4. Describe how dictionaries store data.\n",
        "Ans- dictionaries are the data set of unordered collections.\n",
        "* A dictionary is a collection of key-value pairs.\n",
        "* Each key is unique and serves as an identifier for its associated value.\n",
        "* Values can be of any data type, including lists, other dictionaries, or custom objects.\n",
        "* Keys must be immutable (like strings, numbers, or tuples) and hashable to ensure they have a consistent hash value."
      ],
      "metadata": {
        "id": "737Wn7FawZGg"
      }
    },
    {
      "cell_type": "markdown",
      "source": [
        "##5. Why might you use a set instead of a list in Python?\n",
        "  Ans- Because:-\n",
        "* Sets inherently store only unique elements. If you need a collection where duplicate values are not allowed, a set automatically handles this by preventing the addition of identical items. Lists, conversely, allow duplicates.\n",
        "* Sets provide built-in methods for common mathematical set operations like union, intersection, difference, and symmetric difference. These operations are highly optimized and simplify code when performing such comparisons between collections.\n",
        "* If you have a list with duplicate elements and need to obtain a collection of only unique elements, converting the list to a set and then back to a list (if order is not critical) is an efficient way to achieve this."
      ],
      "metadata": {
        "id": "77og6txz2io6"
      }
    },
    {
      "cell_type": "markdown",
      "source": [
        "##6.  What is a string in Python, and how is it different from a list?\n",
        "Ans- A string can be called as Characters arranged in an unchangeable order. Consider writing a sentence, a paragraph, or a piece of material.\n",
        "\n",
        "How strings differ from lists:-\n",
        "* Lists are mutable, meaning their elements can be changed, added, or removed after creation. Strings, on the other hand, are immutable. Once a string is created, its characters cannot be altered. If you need to modify a string, you must create a new string with the desired changes.\n",
        "* A string is specifically a sequence of characters and a list can contain elements of various data types (integers, strings, floats, even other lists)\n",
        "* Both lists and strings support indexing and slicing to access elements. However, the specific methods available for manipulation differ. Lists have methods like append(), remove(), and sort() that modify the list in place. Strings offer methods like upper(), lower(), replace(), and split(), which typically return new strings with the modifications instead of changing the original string."
      ],
      "metadata": {
        "id": "V7Mzr3Fq5Jdx"
      }
    },
    {
      "cell_type": "markdown",
      "source": [
        "##7. How do tuples ensure data integrity in Python?\n",
        "Ans- Tuples in Python are a great tool for ensuring data integrity, primarily due to their immutability. Immutability means that once a tuple is created, its elements cannot be changed, added, or removed. This property is crucial for maintaining the integrity of data within your Python programs because:\n",
        "* Prevents accidental modification\n",
        "* Encourages predictable behavior\n",
        "* Supports thread-safety"
      ],
      "metadata": {
        "id": "GJhhRA-j6uBy"
      }
    },
    {
      "cell_type": "markdown",
      "source": [
        "##8. What is a hash table, and how does it relate to dictionaries in Python?\n",
        "Ans-A hash table is a data structure that efficiently stores and retrieves data in the form of key-value pairs. It works by using a hash function to transform a given key into an index within an internal array (also called a bucket array). This index then indicates where the corresponding value is stored in the array\n",
        "\n",
        "Dictionaries build on the hash table concept by introducing the concept of a key-value pairs. The key is used to reference the data being stored. Dictionaries hash the key, or the key-value pair, to provide an index into an underlying hash table."
      ],
      "metadata": {
        "id": "YmBJ63Ry7YKQ"
      }
    },
    {
      "cell_type": "markdown",
      "source": [
        "##9.Can lists contain different data types in Python?\n",
        "Ans- Yes, lists in Python can contain different data types. This is a key feature that makes them incredibly flexible and versatile.\n",
        "\n",
        "You can create a single list that holds a combination of:\n",
        "* Integers\n",
        "* Floats\n",
        "* Strings\n",
        "* Booleans\n",
        "* Even other data structures like nested lists, tuples, or dictionaries."
      ],
      "metadata": {
        "id": "qgILo5meCdnL"
      }
    },
    {
      "cell_type": "markdown",
      "source": [
        "##10. Explain why strings are immutable in Python.\n",
        "Ans- The immutability of strings in Python is a fundamental design choice that contributes to safer, more efficient, and easier-to-reason-about code. While it means you can't modify a string directly, the benefits it provides in terms of data integrity, performance, and thread safety are significant. Instead of modifying existing strings, you create new ones whenever you need a modified version."
      ],
      "metadata": {
        "id": "rzNSKGNnDI8C"
      }
    },
    {
      "cell_type": "markdown",
      "source": [
        "##11. What advantages do dictionaries offer over lists for certain tasks?\n",
        "Ans-  dictionaries and lists are similar in a certain way that they both are unodered and mutable collection of elements and their items can hold various data types like(strings, numbers, boolean values) but the advantages do dictionaries offer over lists for certain tasks is Dictionaries in Python offer fast data retrieval: Unlike lists where you have to traverse through each element to find a value, dictionaries use hash tables for quick access to values based on keys."
      ],
      "metadata": {
        "id": "zPHYtIvFDuva"
      }
    },
    {
      "cell_type": "markdown",
      "source": [
        "##12. Describe a scenario where using a tuple would be preferable over a list.\n",
        "Ans- If we don't want our data to be changed and prefer it to be read-only, then we should choose the tuple data type over lists. If we know our data will grow or shrink in the future, we need to use the list data type."
      ],
      "metadata": {
        "id": "-OyEtb15Gtoc"
      }
    },
    {
      "cell_type": "markdown",
      "source": [
        "##13. How do sets handle duplicate values in Python?\n",
        "Ans- In Python, sets inherently do not allow duplicate values. They are designed to store unique elements If you attempt to add a duplicate element to a set, it will simply be ignored, and the set will remain unchanged."
      ],
      "metadata": {
        "id": "0plhIHKYHmf8"
      }
    },
    {
      "cell_type": "markdown",
      "source": [
        "##14. How does the “in” keyword work differently for lists and dictionaries?\n",
        "Ans- When used with a list, the 'in' keyword checks for the presence of a specific element within the list values while on other hand Dictionaries are implemented as hash tables. When you use 'in' with a dictionary, Python calculates a hash value for the target key and then quickly checks if that hash value exists in the dictionary's internal structure."
      ],
      "metadata": {
        "id": "srcq13IiJGdb"
      }
    },
    {
      "cell_type": "markdown",
      "source": [
        "##15. Can you modify the elements of a tuple? Explain why or why not.\n",
        "Ans- tuples are immutable sequences there size and elements are cannot be changed we cannot directly modify the elements of a tuple in Python but there is a way firts Convert the tuple to a list, modify the list, and then convert it back to a tuple but these techniques create new tuples rather than modifying the original in-place."
      ],
      "metadata": {
        "id": "rHNMaM8wKE4L"
      }
    },
    {
      "cell_type": "markdown",
      "source": [
        "##16. What is a nested dictionary, and give an example of its use case?\n",
        "Ans- A nested dictionary in Python is a dictionary where the values of the outer dictionary are themselves other dictionaries. This structure allows for representing and organizing hierarchical or multi-layered data.\n",
        "\n",
        "Let's imagine we want to store information about multiple students in a school, including their name, age, and grade so we take a outer dictionary \"school\" which has keys like \"student1\", \"student2\", and \"student3\", each representing a student. The value associated with each of these keys is another dictionary containing details about that particular student, such as their name, age, and grade these another dictionaries are representing nested dictionary."
      ],
      "metadata": {
        "id": "repRPcZVLu0c"
      }
    },
    {
      "cell_type": "markdown",
      "source": [
        "##17. Describe the time complexity of accessing elements in a dictionary.\n",
        "Ans- Accessing elements in a dictionary (or hash table) typically has a time complexity of O(1) on average. This means that the time it takes to retrieve a value by its key is, on average, constant and doesn't depend on the size of the dictionary. However, in the worst-case scenario (which is rare), the time complexity can be O(n), where n is the number of elements in the dictionary, due to hash collisions"
      ],
      "metadata": {
        "id": "XJoSJKU6NCMF"
      }
    },
    {
      "cell_type": "markdown",
      "source": [
        "##18.  In what situations are lists preferred over dictionaries?\n",
        "Ans- Python lists are generally preferred over dictionaries in situations where:\n",
        "\n",
        "* Ordered Collections: When the order of elements is crucial, lists are the better choice. They maintain the order in which items are added, allowing access by numerical indices.\n",
        "* Sequential Processing: If you need to iterate through elements and perform operations on them sequentially, lists are highly suitable.\n",
        "* Indexed Access: When you need efficient access to elements using numerical indices, lists excel with constant-time complexity (O(1)) for retrieving elements by index.\n",
        "* Sorting Data: Lists have built-in methods for efficient sorting of elements, which is useful when data needs to be sorted in a specific order."
      ],
      "metadata": {
        "id": "ElL5AUVb7Xyo"
      }
    },
    {
      "cell_type": "markdown",
      "source": [
        "##19. Why are dictionaries considered unordered, and how does that affect data retrieval?\n",
        "Ans- dictionaries were considered unordered because they did not guarantee the order in which items were stored or retrieved. This was primarily due to their underlying implementation using hash tables.\n",
        "\n",
        "The unordered nature of dictionaries means that when you iterate through a dictionary or try to access its elements, you cannot rely on the order in which the key-value pairs were initially added."
      ],
      "metadata": {
        "id": "HiHtRDKQ8GpQ"
      }
    },
    {
      "cell_type": "markdown",
      "source": [
        "##20. Explain the difference between a list and a dictionary in terms of data retrieval.\n",
        "Ans-\n",
        "* Lists: Ordered, accessed by integer indices (0, 1, 2...), efficient for ordered data and sequential access.\n",
        "\n",
        "* Dictionaries: Unordered (in older Python versions), accessed by unique keys (strings, numbers, tuples, etc.), efficient for fast lookups based on unique identifiers.\n",
        "* Performance: Both offer fast retrieval, but lists are faster for index-based access, while dictionaries are faster for key-based lookups, especially with large datasets."
      ],
      "metadata": {
        "id": "Gr92JOCb9R3A"
      }
    },
    {
      "cell_type": "markdown",
      "source": [
        "#Practical Questions"
      ],
      "metadata": {
        "id": "tuP7v2hH9cAw"
      }
    },
    {
      "cell_type": "markdown",
      "source": [
        "##1. Write a code to create a string with your name and print it."
      ],
      "metadata": {
        "id": "gICW7nLb9j-_"
      }
    },
    {
      "cell_type": "code",
      "source": [
        "string_name = \"Roshan Singh\"\n",
        "print(string_name)"
      ],
      "metadata": {
        "colab": {
          "base_uri": "https://localhost:8080/"
        },
        "id": "RP78wT9f9pgA",
        "outputId": "3564baf3-1461-4963-95bb-254b7a5087af"
      },
      "execution_count": null,
      "outputs": [
        {
          "output_type": "stream",
          "name": "stdout",
          "text": [
            "Roshan Singh\n"
          ]
        }
      ]
    },
    {
      "cell_type": "markdown",
      "source": [
        "##2. Write a code to find the length of the string \"Hello World\"."
      ],
      "metadata": {
        "id": "qs1m5xBv-DgB"
      }
    },
    {
      "cell_type": "code",
      "source": [
        "string = \"Hello World\"\n",
        "len(string)"
      ],
      "metadata": {
        "colab": {
          "base_uri": "https://localhost:8080/"
        },
        "id": "K7mIlHYa-HrI",
        "outputId": "c6c90fc3-9b1d-443e-eb38-3b4679c7232e"
      },
      "execution_count": null,
      "outputs": [
        {
          "output_type": "execute_result",
          "data": {
            "text/plain": [
              "11"
            ]
          },
          "metadata": {},
          "execution_count": 9
        }
      ]
    },
    {
      "cell_type": "markdown",
      "source": [
        "##3.  Write a code to slice the first 3 characters from the string \"Python Programming\"."
      ],
      "metadata": {
        "id": "sSjweHk2-R93"
      }
    },
    {
      "cell_type": "code",
      "source": [
        "slice_character = \"Python Programming\"\n",
        "slice_character[:3]"
      ],
      "metadata": {
        "colab": {
          "base_uri": "https://localhost:8080/",
          "height": 35
        },
        "id": "HvZyy58z-WcR",
        "outputId": "a4c81fd3-c510-4b48-a080-6ae1276e2e62"
      },
      "execution_count": null,
      "outputs": [
        {
          "output_type": "execute_result",
          "data": {
            "text/plain": [
              "'Pyt'"
            ],
            "application/vnd.google.colaboratory.intrinsic+json": {
              "type": "string"
            }
          },
          "metadata": {},
          "execution_count": 8
        }
      ]
    },
    {
      "cell_type": "markdown",
      "source": [
        "##4. Write a code to convert the string \"hello\" to uppercase."
      ],
      "metadata": {
        "id": "_-H73xh0_OxA"
      }
    },
    {
      "cell_type": "code",
      "source": [
        "my_string = \"hello\"\n",
        "uppercase_string = my_string.upper()\n",
        "uppercase_string"
      ],
      "metadata": {
        "colab": {
          "base_uri": "https://localhost:8080/",
          "height": 35
        },
        "id": "Z1Sy_6RU_Uno",
        "outputId": "1cbab9cb-42e2-479f-d13c-f3f4ec19c792"
      },
      "execution_count": null,
      "outputs": [
        {
          "output_type": "execute_result",
          "data": {
            "text/plain": [
              "'HELLO'"
            ],
            "application/vnd.google.colaboratory.intrinsic+json": {
              "type": "string"
            }
          },
          "metadata": {},
          "execution_count": 22
        }
      ]
    },
    {
      "cell_type": "markdown",
      "source": [
        "##5.  Write a code to replace the word \"apple\" with \"orange\" in the string \"I like apple\"."
      ],
      "metadata": {
        "id": "RSPdoJ1IABfY"
      }
    },
    {
      "cell_type": "code",
      "source": [
        "my_string = \"I like apple\"\n",
        "updated_string = my_string.replace(\"apple\", \"orange\")\n",
        "updated_string"
      ],
      "metadata": {
        "colab": {
          "base_uri": "https://localhost:8080/",
          "height": 35
        },
        "id": "Bz-sRSfiAG7w",
        "outputId": "944272ac-da30-4463-bdeb-d4a67fd17565"
      },
      "execution_count": null,
      "outputs": [
        {
          "output_type": "execute_result",
          "data": {
            "text/plain": [
              "'I like orange'"
            ],
            "application/vnd.google.colaboratory.intrinsic+json": {
              "type": "string"
            }
          },
          "metadata": {},
          "execution_count": 23
        }
      ]
    },
    {
      "cell_type": "markdown",
      "source": [
        "##6. Write a code to create a list with numbers 1 to 5 and print it."
      ],
      "metadata": {
        "id": "sFcSFvwaAv4d"
      }
    },
    {
      "cell_type": "code",
      "source": [
        "my_list = list(range(1,6))\n",
        "my_list"
      ],
      "metadata": {
        "colab": {
          "base_uri": "https://localhost:8080/"
        },
        "id": "6BEXG_UjA0Mq",
        "outputId": "ea913c55-734b-4d40-b3d8-ce28f0e4d37e"
      },
      "execution_count": null,
      "outputs": [
        {
          "output_type": "execute_result",
          "data": {
            "text/plain": [
              "[1, 2, 3, 4, 5]"
            ]
          },
          "metadata": {},
          "execution_count": 26
        }
      ]
    },
    {
      "cell_type": "markdown",
      "source": [
        "##7.  Write a code to append the number 10 to the list [1, 2, 3, 4]."
      ],
      "metadata": {
        "id": "fE5dsD4iBTmA"
      }
    },
    {
      "cell_type": "code",
      "source": [
        "given_list = [1,2,3,4]\n",
        "given_list.append(10)\n",
        "given_list"
      ],
      "metadata": {
        "colab": {
          "base_uri": "https://localhost:8080/"
        },
        "id": "98rrBGglBXnh",
        "outputId": "9009d1aa-4a07-4d0a-81d0-a159268b8ea5"
      },
      "execution_count": null,
      "outputs": [
        {
          "output_type": "execute_result",
          "data": {
            "text/plain": [
              "[1, 2, 3, 4, 10]"
            ]
          },
          "metadata": {},
          "execution_count": 55
        }
      ]
    },
    {
      "cell_type": "markdown",
      "source": [
        "##8. Write a code to remove the number 3 from the list [1, 2, 3, 4, 5]."
      ],
      "metadata": {
        "id": "vNSqPcuSBhdA"
      }
    },
    {
      "cell_type": "code",
      "source": [
        "given_list = [1,2,3,4,5]\n",
        "given_list.remove(3)\n",
        "given_list"
      ],
      "metadata": {
        "colab": {
          "base_uri": "https://localhost:8080/"
        },
        "id": "3WjIucVgBlJI",
        "outputId": "82ef7d15-4006-4d74-cf93-ddb08083cddd"
      },
      "execution_count": null,
      "outputs": [
        {
          "output_type": "execute_result",
          "data": {
            "text/plain": [
              "[1, 2, 4, 5]"
            ]
          },
          "metadata": {},
          "execution_count": 28
        }
      ]
    },
    {
      "cell_type": "markdown",
      "source": [
        "##9. Write a code to access the second element in the list ['a', 'b', 'c', 'd']."
      ],
      "metadata": {
        "id": "MKAqf8-SBtaZ"
      }
    },
    {
      "cell_type": "code",
      "source": [
        "given_list = ['a','b','c','d']\n",
        "second_element = given_list[1]\n",
        "second_element"
      ],
      "metadata": {
        "colab": {
          "base_uri": "https://localhost:8080/",
          "height": 35
        },
        "id": "9OKm-ROmBygx",
        "outputId": "72672aec-dd99-4eb9-99ce-b86fdfb0d051"
      },
      "execution_count": null,
      "outputs": [
        {
          "output_type": "execute_result",
          "data": {
            "text/plain": [
              "'b'"
            ],
            "application/vnd.google.colaboratory.intrinsic+json": {
              "type": "string"
            }
          },
          "metadata": {},
          "execution_count": 31
        }
      ]
    },
    {
      "cell_type": "markdown",
      "source": [
        "##10.  Write a code to reverse the list [10, 20, 30, 40, 50]."
      ],
      "metadata": {
        "id": "yMYCkxKVCX1g"
      }
    },
    {
      "cell_type": "code",
      "source": [
        "my_list = [10,20,30,40,50]\n",
        "reverse_list = my_list[::-1]\n",
        "print(f\"original list: {my_list}\")\n",
        "print(f\"reverse list: {reverse_list}\")"
      ],
      "metadata": {
        "colab": {
          "base_uri": "https://localhost:8080/"
        },
        "id": "3d4OFRZLCcOZ",
        "outputId": "3ec2555b-7186-469c-cb24-38752e272e49"
      },
      "execution_count": null,
      "outputs": [
        {
          "output_type": "stream",
          "name": "stdout",
          "text": [
            "original list: [10, 20, 30, 40, 50]\n",
            "reverse list: [50, 40, 30, 20, 10]\n"
          ]
        }
      ]
    },
    {
      "cell_type": "markdown",
      "source": [
        "##11. Write a code to create a tuple with the elements 100, 200, 300 and print it."
      ],
      "metadata": {
        "id": "So4pUat4Cp04"
      }
    },
    {
      "cell_type": "code",
      "source": [
        "my_tuple = (100, 200, 300)\n",
        "print(my_tuple)\n"
      ],
      "metadata": {
        "colab": {
          "base_uri": "https://localhost:8080/"
        },
        "id": "WiZEeom_CuqI",
        "outputId": "f9a40e29-5997-4b27-a7c4-6766f1010315"
      },
      "execution_count": null,
      "outputs": [
        {
          "output_type": "stream",
          "name": "stdout",
          "text": [
            "(100, 200, 300)\n"
          ]
        }
      ]
    },
    {
      "cell_type": "markdown",
      "source": [
        "##12. Write a code to access the second-to-last element of the tuple ('red', 'green', 'blue', 'yellow')."
      ],
      "metadata": {
        "id": "BAOkpKlpDTzI"
      }
    },
    {
      "cell_type": "code",
      "source": [
        "my_tuple = ('red', 'green', 'blue', 'yellow')\n",
        "second_to_last_element = my_tuple[-2]\n",
        "print(second_to_last_element)\n"
      ],
      "metadata": {
        "colab": {
          "base_uri": "https://localhost:8080/"
        },
        "id": "UY-4CaI7DV_h",
        "outputId": "d78c76c3-7393-4958-e6fc-83315068b85d"
      },
      "execution_count": null,
      "outputs": [
        {
          "output_type": "stream",
          "name": "stdout",
          "text": [
            "blue\n"
          ]
        }
      ]
    },
    {
      "cell_type": "markdown",
      "source": [
        "##13. Write a code to find the minimum number in the tuple (10, 20, 5, 15)."
      ],
      "metadata": {
        "id": "rYxCWNvjD37J"
      }
    },
    {
      "cell_type": "code",
      "source": [
        "given_tuple = (10, 20, 5, 15)\n",
        "minimun_number = min(given_tuple)\n",
        "minimun_number"
      ],
      "metadata": {
        "colab": {
          "base_uri": "https://localhost:8080/"
        },
        "id": "q6W4uWQfD7bg",
        "outputId": "8f9d6dc8-d506-4b97-9c0f-6492e75e883b"
      },
      "execution_count": null,
      "outputs": [
        {
          "output_type": "execute_result",
          "data": {
            "text/plain": [
              "5"
            ]
          },
          "metadata": {},
          "execution_count": 38
        }
      ]
    },
    {
      "cell_type": "markdown",
      "source": [
        "##14. Write a code to find the index of the element \"cat\" in the tuple ('dog', 'cat', 'rabbit')."
      ],
      "metadata": {
        "id": "hy_4mcSgFgVx"
      }
    },
    {
      "cell_type": "code",
      "source": [
        "animals = ('dog', 'cat', 'rabbit')\n",
        "index = animals.index('cat')\n",
        "print(index)\n"
      ],
      "metadata": {
        "colab": {
          "base_uri": "https://localhost:8080/"
        },
        "id": "K7HpOCCMFkJ5",
        "outputId": "00411efe-7f4b-44d2-f228-a13ab741fd5c"
      },
      "execution_count": null,
      "outputs": [
        {
          "output_type": "stream",
          "name": "stdout",
          "text": [
            "1\n"
          ]
        }
      ]
    },
    {
      "cell_type": "markdown",
      "source": [
        "##15. Write a code to create a tuple containing three different fruits and check if \"kiwi\" is in it."
      ],
      "metadata": {
        "id": "15MHckcsF75w"
      }
    },
    {
      "cell_type": "code",
      "source": [
        "fruits_tuple = (\"apple\", \"mango\", \"kiwi\")\n",
        "if \"kiwi\" in fruits_tuple:\n",
        "  print(\"kiwi is in given tuple\")\n",
        "else:\n",
        "  print(\"kiwi is not in given tuple\")"
      ],
      "metadata": {
        "colab": {
          "base_uri": "https://localhost:8080/"
        },
        "id": "BxBXQKXWGDYo",
        "outputId": "c6e323c4-435a-435f-825c-2a6860afd1bc"
      },
      "execution_count": null,
      "outputs": [
        {
          "output_type": "stream",
          "name": "stdout",
          "text": [
            "kiwi is in given tuple\n"
          ]
        }
      ]
    },
    {
      "cell_type": "markdown",
      "source": [
        "##16. Write a code to create a set with the elements 'a', 'b', 'c' and print it."
      ],
      "metadata": {
        "id": "ykgeRFZhGxyK"
      }
    },
    {
      "cell_type": "code",
      "source": [
        "my_set = {'a','b','c'}\n",
        "print(my_set)"
      ],
      "metadata": {
        "colab": {
          "base_uri": "https://localhost:8080/"
        },
        "id": "JQlQRkQhG1wp",
        "outputId": "c25dd139-8d38-4424-d0ba-66da8e12305f"
      },
      "execution_count": null,
      "outputs": [
        {
          "output_type": "stream",
          "name": "stdout",
          "text": [
            "{'b', 'c', 'a'}\n"
          ]
        }
      ]
    },
    {
      "cell_type": "markdown",
      "source": [
        "##17. Write a code to clear all elements from the set {1, 2, 3, 4, 5}."
      ],
      "metadata": {
        "id": "aJ647SsSHVlC"
      }
    },
    {
      "cell_type": "code",
      "source": [
        "my_set = {1, 2, 3, 4, 5}\n",
        "print(\"Original set:\", my_set)\n",
        "\n",
        "my_set.clear()\n",
        "print(\"Set after clearing:\", my_set)"
      ],
      "metadata": {
        "colab": {
          "base_uri": "https://localhost:8080/"
        },
        "id": "aNdYLEQHHaeI",
        "outputId": "50d17cee-0217-4915-a32a-77804fd0fca7"
      },
      "execution_count": null,
      "outputs": [
        {
          "output_type": "stream",
          "name": "stdout",
          "text": [
            "Original set: {1, 2, 3, 4, 5}\n",
            "Set after clearing: set()\n"
          ]
        }
      ]
    },
    {
      "cell_type": "markdown",
      "source": [
        "##18. Write a code to remove the element 4 from the set {1, 2, 3, 4}."
      ],
      "metadata": {
        "id": "8bUDFM6LIB5D"
      }
    },
    {
      "cell_type": "code",
      "source": [
        "given_set = [1,2,3,4]\n",
        "given_set.remove(4)\n",
        "given_set"
      ],
      "metadata": {
        "colab": {
          "base_uri": "https://localhost:8080/"
        },
        "id": "R81d87AoIFTJ",
        "outputId": "490a7f50-22bb-416c-e552-0016ae049832"
      },
      "execution_count": null,
      "outputs": [
        {
          "output_type": "execute_result",
          "data": {
            "text/plain": [
              "[1, 2, 3]"
            ]
          },
          "metadata": {},
          "execution_count": 58
        }
      ]
    },
    {
      "cell_type": "markdown",
      "source": [
        "##19. Write a code to find the union of two sets {1, 2, 3} and {3, 4, 5}."
      ],
      "metadata": {
        "id": "g_kbl9cuLkwK"
      }
    },
    {
      "cell_type": "code",
      "source": [
        "set1 = {1,2,3}\n",
        "set2 = {3,4,5}\n",
        "union_set = set1 | set2\n",
        "union_set"
      ],
      "metadata": {
        "colab": {
          "base_uri": "https://localhost:8080/"
        },
        "id": "O_V-XsBwLobZ",
        "outputId": "97043c12-5fae-4797-86e3-e0e45668a6f5"
      },
      "execution_count": null,
      "outputs": [
        {
          "output_type": "execute_result",
          "data": {
            "text/plain": [
              "{1, 2, 3, 4, 5}"
            ]
          },
          "metadata": {},
          "execution_count": 62
        }
      ]
    },
    {
      "cell_type": "markdown",
      "source": [
        "##20. Write a code to find the intersection of two sets {1, 2, 3} and {2, 3, 4}."
      ],
      "metadata": {
        "id": "PxkRzTNgMP_y"
      }
    },
    {
      "cell_type": "code",
      "source": [
        "set1 = {1,2,3}\n",
        "set2 = {2,3,4}\n",
        "intersection_set = set1 & set2\n",
        "intersection_set"
      ],
      "metadata": {
        "colab": {
          "base_uri": "https://localhost:8080/"
        },
        "id": "dRhLYcvmMTvK",
        "outputId": "69db9a91-0864-4921-8d8f-18d607b6c974"
      },
      "execution_count": null,
      "outputs": [
        {
          "output_type": "execute_result",
          "data": {
            "text/plain": [
              "{2, 3}"
            ]
          },
          "metadata": {},
          "execution_count": 63
        }
      ]
    },
    {
      "cell_type": "markdown",
      "source": [
        "##21. Write a code to create a dictionary with the keys \"name\", \"age\", and \"city\", and print it."
      ],
      "metadata": {
        "id": "XtdkW3G9MsG6"
      }
    },
    {
      "cell_type": "code",
      "source": [
        "my_dictionary = {'name':'Roshan','age':'21','city':'Delhi'}\n",
        "my_dictionary"
      ],
      "metadata": {
        "colab": {
          "base_uri": "https://localhost:8080/"
        },
        "id": "hDSypmw6MzJh",
        "outputId": "ac677f61-99d9-4b9f-c5d3-3a0b42dcae00"
      },
      "execution_count": null,
      "outputs": [
        {
          "output_type": "execute_result",
          "data": {
            "text/plain": [
              "{'name': 'Roshan', 'age': '21', 'city': 'Delhi'}"
            ]
          },
          "metadata": {},
          "execution_count": 64
        }
      ]
    },
    {
      "cell_type": "markdown",
      "source": [
        "##22. Write a code to add a new key-value pair \"country\": \"USA\" to the dictionary {'name': 'John', 'age': 25}."
      ],
      "metadata": {
        "id": "WTt4HQAiNTnK"
      }
    },
    {
      "cell_type": "code",
      "source": [
        "my_dict = {'name': 'John', 'age': 25}\n",
        "\n",
        "# Add the new key-value pair\n",
        "my_dict['country'] = 'USA'\n",
        "\n",
        "print(my_dict)"
      ],
      "metadata": {
        "colab": {
          "base_uri": "https://localhost:8080/"
        },
        "id": "eZPPrHxrNWrC",
        "outputId": "9eeb58be-3684-4c03-a954-b83e7f8a87da"
      },
      "execution_count": null,
      "outputs": [
        {
          "output_type": "stream",
          "name": "stdout",
          "text": [
            "{'name': 'John', 'age': 25, 'country': 'USA'}\n"
          ]
        }
      ]
    },
    {
      "cell_type": "markdown",
      "source": [
        "##23. Write a code to access the value associated with the key \"name\" in the dictionary {'name': 'Alice', 'age': 30}."
      ],
      "metadata": {
        "id": "4iGPn4iPOGQB"
      }
    },
    {
      "cell_type": "code",
      "source": [
        "my_dictionary = {'name':'ALice','age':30}\n",
        "name_value = my_dictionary['name']\n",
        "name_value"
      ],
      "metadata": {
        "colab": {
          "base_uri": "https://localhost:8080/",
          "height": 35
        },
        "id": "w7NOMrIEOKLa",
        "outputId": "45c26cfb-bf68-4731-ab63-dc37875fe3bd"
      },
      "execution_count": null,
      "outputs": [
        {
          "output_type": "execute_result",
          "data": {
            "text/plain": [
              "'ALice'"
            ],
            "application/vnd.google.colaboratory.intrinsic+json": {
              "type": "string"
            }
          },
          "metadata": {},
          "execution_count": 70
        }
      ]
    },
    {
      "cell_type": "markdown",
      "source": [
        "##24. Write a code to remove the key \"age\" from the dictionary {'name': 'Bob', 'age': 22, 'city': 'New York'}."
      ],
      "metadata": {
        "id": "NlVTbb1rO418"
      }
    },
    {
      "cell_type": "code",
      "source": [
        "dict1 = {'name': 'Bob', 'age': 22, 'city': 'New York'}\n",
        "print(\"Original dictionary:\", dict1)\n",
        "\n",
        "del dict1['age']\n",
        "print(\"Dictionary after using del:\", dict1)"
      ],
      "metadata": {
        "colab": {
          "base_uri": "https://localhost:8080/"
        },
        "id": "MvMImxeLO9Qb",
        "outputId": "19d603d5-ab67-4cec-fb59-b21f2edb78f0"
      },
      "execution_count": null,
      "outputs": [
        {
          "output_type": "stream",
          "name": "stdout",
          "text": [
            "Original dictionary: {'name': 'Bob', 'age': 22, 'city': 'New York'}\n",
            "Dictionary after using del: {'name': 'Bob', 'city': 'New York'}\n"
          ]
        }
      ]
    },
    {
      "cell_type": "markdown",
      "source": [
        "##25. Write a code to check if the key \"city\" exists in the dictionary {'name': 'Alice', 'city': 'Paris'}."
      ],
      "metadata": {
        "id": "vfNOKZJAQBT1"
      }
    },
    {
      "cell_type": "code",
      "source": [
        "person = {'name': 'Alice', 'city': 'Paris'}\n",
        "\n",
        "if \"city\" in person.keys():\n",
        "    print(\"The key 'city' exists in the dictionary \")\n",
        "else:\n",
        "    print(\"The key 'city' does not exist in the dictionary\")\n"
      ],
      "metadata": {
        "colab": {
          "base_uri": "https://localhost:8080/"
        },
        "id": "6NRLKmtFQGpB",
        "outputId": "235edfd5-bf22-4e62-f592-bb42354052f4"
      },
      "execution_count": null,
      "outputs": [
        {
          "output_type": "stream",
          "name": "stdout",
          "text": [
            "The key 'city' exists in the dictionary \n"
          ]
        }
      ]
    },
    {
      "cell_type": "markdown",
      "source": [
        "##26. Write a code to create a list, a tuple, and a dictionary, and print them all."
      ],
      "metadata": {
        "id": "IJ1oZ6luQcOb"
      }
    },
    {
      "cell_type": "code",
      "source": [
        "# Create a list\n",
        "my_list = [\"apple\", \"banana\", \"cherry\", 1, 2, 3]\n",
        "\n",
        "# Create a tuple\n",
        "my_tuple = (\"red\", \"green\", \"blue\", 10, 20)\n",
        "\n",
        "# Create a dictionary\n",
        "my_dictionary = {\n",
        "    \"name\": \"Alice\",\n",
        "    \"age\": 30,\n",
        "    \"city\": \"New York\"\n",
        "}\n",
        "\n",
        "# Print the data structures\n",
        "print(\"My List:\", my_list)\n",
        "print(\"My Tuple:\", my_tuple)\n",
        "print(\"My Dictionary:\", my_dictionary)\n"
      ],
      "metadata": {
        "colab": {
          "base_uri": "https://localhost:8080/"
        },
        "id": "DSEa4h0tQhTx",
        "outputId": "4f09a0da-2c8c-499d-dca8-dc97e25521d6"
      },
      "execution_count": null,
      "outputs": [
        {
          "output_type": "stream",
          "name": "stdout",
          "text": [
            "My List: ['apple', 'banana', 'cherry', 1, 2, 3]\n",
            "My Tuple: ('red', 'green', 'blue', 10, 20)\n",
            "My Dictionary: {'name': 'Alice', 'age': 30, 'city': 'New York'}\n"
          ]
        }
      ]
    },
    {
      "cell_type": "markdown",
      "source": [
        "##27. Write a code to create a list of 5 random numbers between 1 and 100, sort it in ascending order, and print the result.(replaced)"
      ],
      "metadata": {
        "id": "lw8--mb2Qsvx"
      }
    },
    {
      "cell_type": "code",
      "source": [
        "import random\n",
        "\n",
        "random_numbers = [random.randint(1, 100) for _ in range(5)]\n",
        "print(\"Original list:\", random_numbers)\n",
        "\n",
        "random_numbers.sort()  # Sort the list in ascending order\n",
        "print(\"Sorted list (ascending):\", random_numbers)\n"
      ],
      "metadata": {
        "colab": {
          "base_uri": "https://localhost:8080/"
        },
        "id": "jmQARtppQ0qx",
        "outputId": "347b183b-7ec8-4e2c-833b-b280bf93941f"
      },
      "execution_count": null,
      "outputs": [
        {
          "output_type": "stream",
          "name": "stdout",
          "text": [
            "Original list: [49, 6, 49, 41, 13]\n",
            "Sorted list (ascending): [6, 13, 41, 49, 49]\n"
          ]
        }
      ]
    },
    {
      "cell_type": "markdown",
      "source": [
        "##28. Write a code to create a list with strings and print the element at the third index."
      ],
      "metadata": {
        "id": "tYHGKctsRVPL"
      }
    },
    {
      "cell_type": "code",
      "source": [
        "fruits = [\"apple\", \"banana\", \"cherry\", \"date\", \"elderberry\"]\n",
        "\n",
        "# Access and print the element at the third index\n",
        "print(fruits[3])"
      ],
      "metadata": {
        "colab": {
          "base_uri": "https://localhost:8080/"
        },
        "id": "nD-sFGhkRZQK",
        "outputId": "376e28a7-29c7-4ba4-fbdd-42651bedaa1e"
      },
      "execution_count": null,
      "outputs": [
        {
          "output_type": "stream",
          "name": "stdout",
          "text": [
            "date\n"
          ]
        }
      ]
    },
    {
      "cell_type": "markdown",
      "source": [
        "##29. Write a code to combine two dictionaries into one and print the result."
      ],
      "metadata": {
        "id": "vSCyS_nPRi3z"
      }
    },
    {
      "cell_type": "code",
      "source": [
        "dict1 = {'A': 'Geeks', 'B': 'For'}\n",
        "dict2 = {'B': 'Geeks', 'C': 'Python'}\n",
        "\n",
        "dict1.update(dict2) # Update dict1 with elements from dict2.\n",
        "\n",
        "print(dict1)\n"
      ],
      "metadata": {
        "colab": {
          "base_uri": "https://localhost:8080/"
        },
        "id": "ZXnXqrRdRnT6",
        "outputId": "019f383e-9d9f-449e-a331-c1e4d4a8fbe1"
      },
      "execution_count": null,
      "outputs": [
        {
          "output_type": "stream",
          "name": "stdout",
          "text": [
            "{'A': 'Geeks', 'B': 'Geeks', 'C': 'Python'}\n"
          ]
        }
      ]
    },
    {
      "cell_type": "markdown",
      "source": [
        "##30. Write a code to convert a list of strings into a set."
      ],
      "metadata": {
        "id": "JQ5vzeKdSM6T"
      }
    },
    {
      "cell_type": "code",
      "source": [
        "list_of_strings = [\"apple\", \"banana\", \"cherry\", \"apple\", \"date\", \"banana\"]\n",
        "\n",
        "# Convert the list to a set\n",
        "set_of_strings = set(list_of_strings)\n",
        "\n",
        "print(\"Original List:\", list_of_strings)\n",
        "print(\"Converted Set:\", set_of_strings)\n"
      ],
      "metadata": {
        "colab": {
          "base_uri": "https://localhost:8080/"
        },
        "id": "-O-jL6xASR3x",
        "outputId": "eec9406b-df18-4771-e00b-d950c79c13e8"
      },
      "execution_count": null,
      "outputs": [
        {
          "output_type": "stream",
          "name": "stdout",
          "text": [
            "Original List: ['apple', 'banana', 'cherry', 'apple', 'date', 'banana']\n",
            "Converted Set: {'cherry', 'date', 'banana', 'apple'}\n"
          ]
        }
      ]
    }
  ]
}